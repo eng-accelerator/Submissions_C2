{
  "cells": [
    {
      "cell_type": "markdown",
      "metadata": {
        "id": "-S-EjpW2JpyI"
      },
      "source": [
        "# Gradio Essentials\n",
        "\n",
        "This notebook covers the essential building blocks of Gradio and provides code examples to get you started."
      ],
      "id": "-S-EjpW2JpyI"
    },
    {
      "cell_type": "markdown",
      "metadata": {
        "id": "o962WKeKJpyK"
      },
      "source": [
        "## Installation\n",
        "\n",
        "First, install Gradio with pip."
      ],
      "id": "o962WKeKJpyK"
    },
    {
      "cell_type": "code",
      "execution_count": 1,
      "metadata": {
        "colab": {
          "base_uri": "https://localhost:8080/"
        },
        "id": "WM8HXhdyJpyM",
        "outputId": "f1ab2f1a-9253-4b81-a887-fcf0bc95954b"
      },
      "outputs": [
        {
          "output_type": "stream",
          "name": "stdout",
          "text": [
            "Requirement already satisfied: gradio in /usr/local/lib/python3.12/dist-packages (5.49.1)\n",
            "Requirement already satisfied: aiofiles<25.0,>=22.0 in /usr/local/lib/python3.12/dist-packages (from gradio) (24.1.0)\n",
            "Requirement already satisfied: anyio<5.0,>=3.0 in /usr/local/lib/python3.12/dist-packages (from gradio) (4.11.0)\n",
            "Requirement already satisfied: brotli>=1.1.0 in /usr/local/lib/python3.12/dist-packages (from gradio) (1.1.0)\n",
            "Requirement already satisfied: fastapi<1.0,>=0.115.2 in /usr/local/lib/python3.12/dist-packages (from gradio) (0.120.0)\n",
            "Requirement already satisfied: ffmpy in /usr/local/lib/python3.12/dist-packages (from gradio) (0.6.4)\n",
            "Requirement already satisfied: gradio-client==1.13.3 in /usr/local/lib/python3.12/dist-packages (from gradio) (1.13.3)\n",
            "Requirement already satisfied: groovy~=0.1 in /usr/local/lib/python3.12/dist-packages (from gradio) (0.1.2)\n",
            "Requirement already satisfied: httpx<1.0,>=0.24.1 in /usr/local/lib/python3.12/dist-packages (from gradio) (0.28.1)\n",
            "Requirement already satisfied: huggingface-hub<2.0,>=0.33.5 in /usr/local/lib/python3.12/dist-packages (from gradio) (0.36.0)\n",
            "Requirement already satisfied: jinja2<4.0 in /usr/local/lib/python3.12/dist-packages (from gradio) (3.1.6)\n",
            "Requirement already satisfied: markupsafe<4.0,>=2.0 in /usr/local/lib/python3.12/dist-packages (from gradio) (3.0.3)\n",
            "Requirement already satisfied: numpy<3.0,>=1.0 in /usr/local/lib/python3.12/dist-packages (from gradio) (2.0.2)\n",
            "Requirement already satisfied: orjson~=3.0 in /usr/local/lib/python3.12/dist-packages (from gradio) (3.11.4)\n",
            "Requirement already satisfied: packaging in /usr/local/lib/python3.12/dist-packages (from gradio) (25.0)\n",
            "Requirement already satisfied: pandas<3.0,>=1.0 in /usr/local/lib/python3.12/dist-packages (from gradio) (2.2.2)\n",
            "Requirement already satisfied: pillow<12.0,>=8.0 in /usr/local/lib/python3.12/dist-packages (from gradio) (11.3.0)\n",
            "Requirement already satisfied: pydantic<2.12,>=2.0 in /usr/local/lib/python3.12/dist-packages (from gradio) (2.11.10)\n",
            "Requirement already satisfied: pydub in /usr/local/lib/python3.12/dist-packages (from gradio) (0.25.1)\n",
            "Requirement already satisfied: python-multipart>=0.0.18 in /usr/local/lib/python3.12/dist-packages (from gradio) (0.0.20)\n",
            "Requirement already satisfied: pyyaml<7.0,>=5.0 in /usr/local/lib/python3.12/dist-packages (from gradio) (6.0.3)\n",
            "Requirement already satisfied: ruff>=0.9.3 in /usr/local/lib/python3.12/dist-packages (from gradio) (0.14.2)\n",
            "Requirement already satisfied: safehttpx<0.2.0,>=0.1.6 in /usr/local/lib/python3.12/dist-packages (from gradio) (0.1.7)\n",
            "Requirement already satisfied: semantic-version~=2.0 in /usr/local/lib/python3.12/dist-packages (from gradio) (2.10.0)\n",
            "Requirement already satisfied: starlette<1.0,>=0.40.0 in /usr/local/lib/python3.12/dist-packages (from gradio) (0.48.0)\n",
            "Requirement already satisfied: tomlkit<0.14.0,>=0.12.0 in /usr/local/lib/python3.12/dist-packages (from gradio) (0.13.3)\n",
            "Requirement already satisfied: typer<1.0,>=0.12 in /usr/local/lib/python3.12/dist-packages (from gradio) (0.20.0)\n",
            "Requirement already satisfied: typing-extensions~=4.0 in /usr/local/lib/python3.12/dist-packages (from gradio) (4.15.0)\n",
            "Requirement already satisfied: uvicorn>=0.14.0 in /usr/local/lib/python3.12/dist-packages (from gradio) (0.38.0)\n",
            "Requirement already satisfied: fsspec in /usr/local/lib/python3.12/dist-packages (from gradio-client==1.13.3->gradio) (2025.3.0)\n",
            "Requirement already satisfied: websockets<16.0,>=13.0 in /usr/local/lib/python3.12/dist-packages (from gradio-client==1.13.3->gradio) (15.0.1)\n",
            "Requirement already satisfied: idna>=2.8 in /usr/local/lib/python3.12/dist-packages (from anyio<5.0,>=3.0->gradio) (3.11)\n",
            "Requirement already satisfied: sniffio>=1.1 in /usr/local/lib/python3.12/dist-packages (from anyio<5.0,>=3.0->gradio) (1.3.1)\n",
            "Requirement already satisfied: annotated-doc>=0.0.2 in /usr/local/lib/python3.12/dist-packages (from fastapi<1.0,>=0.115.2->gradio) (0.0.3)\n",
            "Requirement already satisfied: certifi in /usr/local/lib/python3.12/dist-packages (from httpx<1.0,>=0.24.1->gradio) (2025.10.5)\n",
            "Requirement already satisfied: httpcore==1.* in /usr/local/lib/python3.12/dist-packages (from httpx<1.0,>=0.24.1->gradio) (1.0.9)\n",
            "Requirement already satisfied: h11>=0.16 in /usr/local/lib/python3.12/dist-packages (from httpcore==1.*->httpx<1.0,>=0.24.1->gradio) (0.16.0)\n",
            "Requirement already satisfied: filelock in /usr/local/lib/python3.12/dist-packages (from huggingface-hub<2.0,>=0.33.5->gradio) (3.20.0)\n",
            "Requirement already satisfied: requests in /usr/local/lib/python3.12/dist-packages (from huggingface-hub<2.0,>=0.33.5->gradio) (2.32.4)\n",
            "Requirement already satisfied: tqdm>=4.42.1 in /usr/local/lib/python3.12/dist-packages (from huggingface-hub<2.0,>=0.33.5->gradio) (4.67.1)\n",
            "Requirement already satisfied: hf-xet<2.0.0,>=1.1.3 in /usr/local/lib/python3.12/dist-packages (from huggingface-hub<2.0,>=0.33.5->gradio) (1.2.0)\n",
            "Requirement already satisfied: python-dateutil>=2.8.2 in /usr/local/lib/python3.12/dist-packages (from pandas<3.0,>=1.0->gradio) (2.9.0.post0)\n",
            "Requirement already satisfied: pytz>=2020.1 in /usr/local/lib/python3.12/dist-packages (from pandas<3.0,>=1.0->gradio) (2025.2)\n",
            "Requirement already satisfied: tzdata>=2022.7 in /usr/local/lib/python3.12/dist-packages (from pandas<3.0,>=1.0->gradio) (2025.2)\n",
            "Requirement already satisfied: annotated-types>=0.6.0 in /usr/local/lib/python3.12/dist-packages (from pydantic<2.12,>=2.0->gradio) (0.7.0)\n",
            "Requirement already satisfied: pydantic-core==2.33.2 in /usr/local/lib/python3.12/dist-packages (from pydantic<2.12,>=2.0->gradio) (2.33.2)\n",
            "Requirement already satisfied: typing-inspection>=0.4.0 in /usr/local/lib/python3.12/dist-packages (from pydantic<2.12,>=2.0->gradio) (0.4.2)\n",
            "Requirement already satisfied: click>=8.0.0 in /usr/local/lib/python3.12/dist-packages (from typer<1.0,>=0.12->gradio) (8.3.0)\n",
            "Requirement already satisfied: shellingham>=1.3.0 in /usr/local/lib/python3.12/dist-packages (from typer<1.0,>=0.12->gradio) (1.5.4)\n",
            "Requirement already satisfied: rich>=10.11.0 in /usr/local/lib/python3.12/dist-packages (from typer<1.0,>=0.12->gradio) (13.9.4)\n",
            "Requirement already satisfied: six>=1.5 in /usr/local/lib/python3.12/dist-packages (from python-dateutil>=2.8.2->pandas<3.0,>=1.0->gradio) (1.17.0)\n",
            "Requirement already satisfied: markdown-it-py>=2.2.0 in /usr/local/lib/python3.12/dist-packages (from rich>=10.11.0->typer<1.0,>=0.12->gradio) (4.0.0)\n",
            "Requirement already satisfied: pygments<3.0.0,>=2.13.0 in /usr/local/lib/python3.12/dist-packages (from rich>=10.11.0->typer<1.0,>=0.12->gradio) (2.19.2)\n",
            "Requirement already satisfied: charset_normalizer<4,>=2 in /usr/local/lib/python3.12/dist-packages (from requests->huggingface-hub<2.0,>=0.33.5->gradio) (3.4.4)\n",
            "Requirement already satisfied: urllib3<3,>=1.21.1 in /usr/local/lib/python3.12/dist-packages (from requests->huggingface-hub<2.0,>=0.33.5->gradio) (2.5.0)\n",
            "Requirement already satisfied: mdurl~=0.1 in /usr/local/lib/python3.12/dist-packages (from markdown-it-py>=2.2.0->rich>=10.11.0->typer<1.0,>=0.12->gradio) (0.1.2)\n"
          ]
        }
      ],
      "source": [
        "%pip install gradio"
      ],
      "id": "WM8HXhdyJpyM"
    },
    {
      "cell_type": "markdown",
      "metadata": {
        "id": "hkdXprfsJpyN"
      },
      "source": [
        "## Core Concept: gr.Interface\n",
        "\n",
        "The central class in Gradio is gr.Interface. It wraps a Python function with a UI. Specify fn, inputs, and outputs."
      ],
      "id": "hkdXprfsJpyN"
    },
    {
      "cell_type": "code",
      "execution_count": 2,
      "metadata": {
        "id": "cqmE5S1OJpyO"
      },
      "outputs": [],
      "source": [
        "import gradio as gr\n",
        "def greet(name):\n",
        "    return 'Hello, ' + name + '!'\n",
        "demo = gr.Interface(fn=greet, inputs='text', outputs='text')\n",
        "# demo.launch()  # Uncomment to launch interface"
      ],
      "id": "cqmE5S1OJpyO"
    },
    {
      "cell_type": "markdown",
      "metadata": {
        "id": "OneC0owUJpyO"
      },
      "source": [
        "#### Multiple Inputs Example"
      ],
      "id": "OneC0owUJpyO"
    },
    {
      "cell_type": "code",
      "execution_count": 3,
      "metadata": {
        "id": "KEr_4LCmJpyP"
      },
      "outputs": [],
      "source": [
        "import gradio as gr\n",
        "def greet_with_age(name, age):\n",
        "    return f'Hello, {name}! You are {age} years old.'\n",
        "demo = gr.Interface(fn=greet_with_age, inputs=['text', 'number'], outputs='text')\n",
        "# demo.launch()"
      ],
      "id": "KEr_4LCmJpyP"
    },
    {
      "cell_type": "markdown",
      "metadata": {
        "id": "wpYuVO9QJpyQ"
      },
      "source": [
        "#### Multiple Outputs Example"
      ],
      "id": "wpYuVO9QJpyQ"
    },
    {
      "cell_type": "code",
      "execution_count": 4,
      "metadata": {
        "id": "FKTjVxk0JpyR"
      },
      "outputs": [],
      "source": [
        "import gradio as gr\n",
        "def analyze_text(text):\n",
        "    word_count = len(text.split())\n",
        "    char_count = len(text)\n",
        "    return f'Word Count: {word_count}', f'Character Count: {char_count}'\n",
        "demo = gr.Interface(fn=analyze_text, inputs='text', outputs=['text', 'text'])\n",
        "# demo.launch()"
      ],
      "id": "FKTjVxk0JpyR"
    },
    {
      "cell_type": "markdown",
      "metadata": {
        "id": "p35nupr4JpyR"
      },
      "source": [
        "## Input and Output Components\n",
        "\n",
        "- gr.Textbox()\n",
        "- gr.Label()\n",
        "- gr.Number()\n",
        "- gr.Slider()\n",
        "- gr.Image()\n",
        "- gr.Audio()\n",
        "- gr.Video()\n",
        "- gr.DataFrame()\n",
        "- gr.JSON()\n",
        "- gr.Dropdown()\n",
        "- gr.Checkbox()\n",
        "- gr.Radio()\n",
        "- gr.File()"
      ],
      "id": "p35nupr4JpyR"
    },
    {
      "cell_type": "markdown",
      "metadata": {
        "id": "3nyf-aijJpyS"
      },
      "source": [
        "### Textbox I/O Example"
      ],
      "id": "3nyf-aijJpyS"
    },
    {
      "cell_type": "code",
      "execution_count": 5,
      "metadata": {
        "id": "uJji_EK_JpyT"
      },
      "outputs": [],
      "source": [
        "import gradio as gr\n",
        "def echo_text(text):\n",
        "    return text\n",
        "demo_textbox = gr.Interface(fn=echo_text, inputs=gr.Textbox(label='Enter some text'), outputs=gr.Textbox(label='Echoed text'), title='Textbox Example')\n",
        "# demo_textbox.launch()"
      ],
      "id": "uJji_EK_JpyT"
    },
    {
      "cell_type": "markdown",
      "metadata": {
        "id": "qLljKL4qJpyT"
      },
      "source": [
        "### Number I/O Example"
      ],
      "id": "qLljKL4qJpyT"
    },
    {
      "cell_type": "code",
      "execution_count": 6,
      "metadata": {
        "id": "rXKs7kTCJpyT"
      },
      "outputs": [],
      "source": [
        "import gradio as gr\n",
        "def double_number(number):\n",
        "    return number * 2\n",
        "demo_number = gr.Interface(fn=double_number, inputs=gr.Number(label='Enter a number'), outputs=gr.Number(label='Doubled number'), title='Number Example')\n",
        "# demo_number.launch()"
      ],
      "id": "rXKs7kTCJpyT"
    },
    {
      "cell_type": "markdown",
      "metadata": {
        "id": "naSIp09zJpyT"
      },
      "source": [
        "### Slider Example"
      ],
      "id": "naSIp09zJpyT"
    },
    {
      "cell_type": "code",
      "execution_count": 7,
      "metadata": {
        "id": "1tCvhv3rJpyT"
      },
      "outputs": [],
      "source": [
        "import gradio as gr\n",
        "def add_ten(value):\n",
        "    return value + 10\n",
        "demo_slider = gr.Interface(fn=add_ten, inputs=gr.Slider(minimum=0, maximum=100, label='Select a value'), outputs=gr.Number(label='Value + 10'), title='Slider Example')\n",
        "# demo_slider.launch()"
      ],
      "id": "1tCvhv3rJpyT"
    },
    {
      "cell_type": "markdown",
      "metadata": {
        "id": "PIeZyUyKJpyU"
      },
      "source": [
        "### Checkbox Example"
      ],
      "id": "PIeZyUyKJpyU"
    },
    {
      "cell_type": "code",
      "execution_count": 8,
      "metadata": {
        "id": "ZLFU8EEDJpyU"
      },
      "outputs": [],
      "source": [
        "import gradio as gr\n",
        "def check_status(is_checked):\n",
        "    return f\"\"\"Checkbox is {'checked' if is_checked else 'unchecked'}\"\"\"\n",
        "demo_checkbox = gr.Interface(fn=check_status, inputs=gr.Checkbox(label='Check this box'), outputs=gr.Textbox(label='Status'), title='Checkbox Example')\n",
        "# demo_checkbox.launch()"
      ],
      "id": "ZLFU8EEDJpyU"
    },
    {
      "cell_type": "markdown",
      "metadata": {
        "id": "A6mhRAZCJpyU"
      },
      "source": [
        "### Dropdown Example"
      ],
      "id": "A6mhRAZCJpyU"
    },
    {
      "cell_type": "code",
      "execution_count": 9,
      "metadata": {
        "id": "U2lU5LPOJpyU"
      },
      "outputs": [],
      "source": [
        "import gradio as gr\n",
        "def show_choice(choice):\n",
        "    return f'You selected: {choice}'\n",
        "demo_dropdown = gr.Interface(fn=show_choice, inputs=gr.Dropdown(['Option A', 'Option B', 'Option C'], label='Choose an option'), outputs=gr.Textbox(label='Your choice'), title='Dropdown Example')\n",
        "# demo_dropdown.launch()"
      ],
      "id": "U2lU5LPOJpyU"
    },
    {
      "cell_type": "markdown",
      "metadata": {
        "id": "ZufpmOkaJpyU"
      },
      "source": [
        "### Image Example"
      ],
      "id": "ZufpmOkaJpyU"
    },
    {
      "cell_type": "code",
      "execution_count": 10,
      "metadata": {
        "id": "abLGrNFGJpyU"
      },
      "outputs": [],
      "source": [
        "import gradio as gr\n",
        "def process_image(image):\n",
        "    # Return image unchanged\n",
        "    return image\n",
        "demo_image = gr.Interface(fn=process_image, inputs=gr.Image(label='Upload an image'), outputs=gr.Image(label='Processed image'), title='Image Example')\n",
        "# demo_image.launch()"
      ],
      "id": "abLGrNFGJpyU"
    },
    {
      "cell_type": "markdown",
      "metadata": {
        "id": "dW3mA3nTJpyU"
      },
      "source": [
        "## Customizing Components\n",
        "\n",
        "You can set labels, default values, and more during initialization."
      ],
      "id": "dW3mA3nTJpyU"
    },
    {
      "cell_type": "code",
      "execution_count": 11,
      "metadata": {
        "id": "XdRpvExZJpyU"
      },
      "outputs": [],
      "source": [
        "import gradio as gr\n",
        "def greet_custom(name):\n",
        "    return 'Hello, ' + name + '!'\n",
        "demo = gr.Interface(fn=greet_custom, inputs=gr.Textbox(label='Enter Your Name', placeholder='Type here...', lines=2), outputs=gr.Textbox(label='Greeting Output'), title='Customized Greeting App')\n",
        "# demo.launch()"
      ],
      "id": "XdRpvExZJpyU"
    },
    {
      "cell_type": "markdown",
      "metadata": {
        "id": "1PAtaKhnJpyV"
      },
      "source": [
        "## Sharing Your Gradio App\n",
        "\n",
        "To create a public link, use demo.launch(share=True)."
      ],
      "id": "1PAtaKhnJpyV"
    },
    {
      "cell_type": "code",
      "execution_count": 12,
      "metadata": {
        "colab": {
          "base_uri": "https://localhost:8080/",
          "height": 611
        },
        "id": "XGqEkR1dJpyV",
        "outputId": "a2c6b516-ccb5-4a6a-e993-2849b25d177c"
      },
      "outputs": [
        {
          "output_type": "stream",
          "name": "stdout",
          "text": [
            "Colab notebook detected. To show errors in colab notebook, set debug=True in launch()\n",
            "* Running on public URL: https://ff9e52382dfd015ab7.gradio.live\n",
            "\n",
            "This share link expires in 1 week. For free permanent hosting and GPU upgrades, run `gradio deploy` from the terminal in the working directory to deploy to Hugging Face Spaces (https://huggingface.co/spaces)\n"
          ]
        },
        {
          "output_type": "display_data",
          "data": {
            "text/plain": [
              "<IPython.core.display.HTML object>"
            ],
            "text/html": [
              "<div><iframe src=\"https://ff9e52382dfd015ab7.gradio.live\" width=\"100%\" height=\"500\" allow=\"autoplay; camera; microphone; clipboard-read; clipboard-write;\" frameborder=\"0\" allowfullscreen></iframe></div>"
            ]
          },
          "metadata": {}
        },
        {
          "output_type": "execute_result",
          "data": {
            "text/plain": []
          },
          "metadata": {},
          "execution_count": 12
        }
      ],
      "source": [
        "import gradio as gr\n",
        "def greet(name):\n",
        "    return 'Hello, ' + name + '!'\n",
        "demo = gr.Interface(fn=greet, inputs='text', outputs='text')\n",
        "demo.launch(share=True)  # Shareable link\n"
      ],
      "id": "XGqEkR1dJpyV"
    }
  ],
  "metadata": {
    "kernelspec": {
      "display_name": "Python 3",
      "language": "python",
      "name": "python3"
    },
    "language_info": {
      "name": "python",
      "codemirror_mode": {
        "name": "ipython",
        "version": 3
      },
      "file_extension": ".py",
      "mimetype": "text/x-python",
      "nbconvert_exporter": "python",
      "pygments_lexer": "ipython3",
      "version": "3.x"
    },
    "colab": {
      "provenance": []
    }
  },
  "nbformat": 4,
  "nbformat_minor": 5
}